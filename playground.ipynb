{
 "cells": [
  {
   "cell_type": "code",
   "execution_count": null,
   "metadata": {},
   "outputs": [],
   "source": [
    "from trainer import Trainer\n",
    "from config import Config"
   ]
  },
  {
   "cell_type": "code",
   "execution_count": null,
   "metadata": {},
   "outputs": [],
   "source": [
    "config = Config(from_json='./configs/TextCNN.json')\n",
    "config.num_classes = 10\n",
    "config.vocab_path = './THUCNews/data/vocab.pkl'\n",
    "config.set_embedding_pretrained('./THUCNews/data/embedding_Tencent.npz')"
   ]
  },
  {
   "cell_type": "code",
   "execution_count": null,
   "metadata": {},
   "outputs": [],
   "source": [
    "trainer = Trainer('./THUCNews/data/train.txt', './THUCNews/data/dev.txt', config, padding_length=64, batch_size=256, batch_size_eval=64, task_name='SAS')\n",
    "\n",
    "for i in trainer():\n",
    "    a = i"
   ]
  },
  {
   "cell_type": "code",
   "execution_count": 1,
   "metadata": {},
   "outputs": [],
   "source": [
    "from predictor import Predictor\n",
    "from config import Config"
   ]
  },
  {
   "cell_type": "code",
   "execution_count": 2,
   "metadata": {},
   "outputs": [],
   "source": [
    "config = Config(from_json='./configs/TextCNN.json')\n",
    "config.num_classes = 10\n",
    "config.vocab_path = './THUCNews/data/vocab.pkl'\n",
    "config.set_embedding_pretrained('./THUCNews/data/embedding_Tencent.npz')"
   ]
  },
  {
   "cell_type": "code",
   "execution_count": 3,
   "metadata": {},
   "outputs": [
    {
     "name": "stdout",
     "output_type": "stream",
     "text": [
      "Vocab size: 4762\n",
      "AutoModel Choose Model: TextCNN\n",
      "\n",
      "Accessing Resume PATH: ./save_model/SAS/TextCNN/TextCNN_1408.pth ...\n",
      "\n"
     ]
    }
   ],
   "source": [
    "pred = Predictor(config, resume_path='./save_model/SAS/TextCNN/TextCNN_1408.pth')"
   ]
  },
  {
   "cell_type": "code",
   "execution_count": 10,
   "metadata": {},
   "outputs": [
    {
     "data": {
      "text/plain": [
       "[9]"
      ]
     },
     "execution_count": 10,
     "metadata": {},
     "output_type": "execute_result"
    }
   ],
   "source": [
    "pred(['你真的很有趣!'])"
   ]
  }
 ],
 "metadata": {
  "kernelspec": {
   "display_name": "Python 3.6.13 ('pcpower')",
   "language": "python",
   "name": "python3"
  },
  "language_info": {
   "codemirror_mode": {
    "name": "ipython",
    "version": 3
   },
   "file_extension": ".py",
   "mimetype": "text/x-python",
   "name": "python",
   "nbconvert_exporter": "python",
   "pygments_lexer": "ipython3",
   "version": "3.6.13"
  },
  "orig_nbformat": 4,
  "vscode": {
   "interpreter": {
    "hash": "7872dec8fee77bb117962a585331ef85b9564312d4ed2770c3f26192a3127be2"
   }
  }
 },
 "nbformat": 4,
 "nbformat_minor": 2
}
