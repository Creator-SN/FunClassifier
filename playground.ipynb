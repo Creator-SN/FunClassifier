{
 "cells": [
  {
   "cell_type": "code",
   "execution_count": null,
   "metadata": {},
   "outputs": [],
   "source": [
    "from trainer import Trainer\n",
    "from config import Config"
   ]
  },
  {
   "cell_type": "code",
   "execution_count": null,
   "metadata": {},
   "outputs": [],
   "source": [
    "config = Config(from_json='./configs/TextRNN.json')\n",
    "config.num_classes = 10"
   ]
  },
  {
   "cell_type": "code",
   "execution_count": null,
   "metadata": {},
   "outputs": [],
   "source": [
    "trainer = Trainer('./THUCNews/data/train.txt', './THUCNews/data/dev.txt', config, vocab_path='./THUCNews/data/vocab.pkl', padding_length=32, batch_size=256, batch_size_eval=64, task_name='SAS')\n",
    "\n",
    "for i in trainer():\n",
    "    a = i"
   ]
  }
 ],
 "metadata": {
  "kernelspec": {
   "display_name": "Python 3.6.13 ('pcpower')",
   "language": "python",
   "name": "python3"
  },
  "language_info": {
   "codemirror_mode": {
    "name": "ipython",
    "version": 3
   },
   "file_extension": ".py",
   "mimetype": "text/x-python",
   "name": "python",
   "nbconvert_exporter": "python",
   "pygments_lexer": "ipython3",
   "version": "3.6.13"
  },
  "orig_nbformat": 4,
  "vscode": {
   "interpreter": {
    "hash": "7872dec8fee77bb117962a585331ef85b9564312d4ed2770c3f26192a3127be2"
   }
  }
 },
 "nbformat": 4,
 "nbformat_minor": 2
}
